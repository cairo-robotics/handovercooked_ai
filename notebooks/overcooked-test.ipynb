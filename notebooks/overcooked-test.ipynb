{
 "cells": [
  {
   "cell_type": "code",
   "execution_count": 1,
   "metadata": {
    "pycharm": {
     "name": "#%%\n"
    }
   },
   "outputs": [],
   "source": [
    "%load_ext autoreload\n",
    "%autoreload 2"
   ]
  },
  {
   "cell_type": "code",
   "execution_count": 5,
   "metadata": {
    "pycharm": {
     "name": "#%%\n"
    }
   },
   "outputs": [],
   "source": [
    "from overcooked_ai_py.visualization.state_visualizer import StateVisualizer\n",
    "from overcooked_ai_py.mdp.overcooked_trajectory import DEFAULT_TRAJ_KEYS\n",
    "from overcooked_ai_py.mdp.overcooked_env import OvercookedEnv, OvercookedGridworld\n",
    "from overcooked_ai_py.agents.agent import *"
   ]
  },
  {
   "cell_type": "code",
   "execution_count": 21,
   "metadata": {
    "pycharm": {
     "name": "#%%\n"
    }
   },
   "outputs": [],
   "source": [
    "def simulate_n_rooms(n_rooms, steps, agents=None):\n",
    "    combined_trajectories = {k: [] for k in DEFAULT_TRAJ_KEYS}\n",
    "\n",
    "    default_agents = agents is None\n",
    "\n",
    "    # Prepare rooms and agents\n",
    "    mdps = []\n",
    "    envs = []\n",
    "    trajs = []\n",
    "    for j in range(n_rooms):\n",
    "        mdp = OvercookedGridworld.from_layout_name(\"cramped_room_single\")\n",
    "        mdps.append(mdp)\n",
    "        env = OvercookedEnv.from_mdp(mdp, horizon=steps)\n",
    "        envs.append(env)\n",
    "        trajs.append([])\n",
    "\n",
    "\n",
    "    if default_agents:\n",
    "        agents = [AgentGroup(GreedyHumanModelSingle(envs[0].mlam)),\n",
    "                  AgentGroup(GreedyHumanModelSingle(envs[1].mlam, False, True, 1, 1))]\n",
    "        \n",
    "    # Contains the index of the appropriate agent for room i at index i\n",
    "    agent_mapping = list(range(len(agents)))\n",
    "\n",
    "    # Prepare agents\n",
    "    for i in range(n_rooms):\n",
    "        agents[i].set_mdp(mdps[i])\n",
    "\n",
    "    # Simulate for n steps\n",
    "    for i in range(steps):\n",
    "        for j, env in enumerate(envs):\n",
    "            state = env.state\n",
    "            joint_action_and_infos = agents[agent_mapping[j]].joint_action(state)\n",
    "            action, action_info = zip(*joint_action_and_infos)\n",
    "            assert all(a in Action.ALL_ACTIONS for a in action)\n",
    "            assert all(type(a_info) is dict for a_info in action_info)\n",
    "\n",
    "            new_state, reward, done, info = env.step(action, action_info)\n",
    "            trajs[j].append((state, action, reward, done, info))\n",
    "\n",
    "            # Evaluate each agent for switching\n",
    "            if i > 500:\n",
    "                # Switch agents\n",
    "                agent_idx = 1\n",
    "                room_idx = 0\n",
    "                agent_mapping[room_idx] = agent_idx\n",
    "                agents[agent_idx].set_env(envs[room_idx])\n",
    "\n",
    "                agent_idx = 0\n",
    "                room_idx = 1\n",
    "                agent_mapping[room_idx] = agent_idx\n",
    "                agents[agent_idx].set_env(envs[room_idx])\n",
    "\n",
    "    # Prepare data for visualization\n",
    "    for j in range(n_rooms):\n",
    "        trajectory = np.array(trajs[j], dtype=object)\n",
    "        time_taken = envs[j].state.timestep\n",
    "        total_sparse_reward = sum(envs[j].game_stats[\"cumulative_sparse_rewards_by_agent\"])\n",
    "        total_shaped_reward = sum(envs[j].game_stats[\"cumulative_shaped_rewards_by_agent\"])\n",
    "\n",
    "        rollout_info = (trajectory, time_taken, total_sparse_reward, total_shaped_reward)\n",
    "\n",
    "        obs, actions, rews, dones, infos = (\n",
    "            trajectory.T[0],\n",
    "            trajectory.T[1],\n",
    "            trajectory.T[2],\n",
    "            trajectory.T[3],\n",
    "            trajectory.T[4],\n",
    "        )\n",
    "        combined_trajectories[\"ep_states\"].append(obs)\n",
    "        combined_trajectories[\"ep_actions\"].append(actions)\n",
    "        combined_trajectories[\"ep_rewards\"].append(rews)\n",
    "        combined_trajectories[\"ep_dones\"].append(dones)\n",
    "        combined_trajectories[\"ep_infos\"].append(infos)\n",
    "        combined_trajectories[\"ep_returns\"].append(total_sparse_reward)\n",
    "        combined_trajectories[\"ep_lengths\"].append(time_taken)\n",
    "        combined_trajectories[\"mdp_params\"].append(envs[j].mdp.mdp_params)\n",
    "        combined_trajectories[\"env_params\"].append(envs[j].env_params)\n",
    "        # combined_trajectories[\"metadatas\"].append(metadata_fn(rollout_info))\n",
    "\n",
    "    return combined_trajectories"
   ]
  },
  {
   "cell_type": "code",
   "execution_count": 22,
   "metadata": {},
   "outputs": [],
   "source": [
    "import numpy as np\n",
    "import matplotlib.pyplot as plt\n",
    "\n",
    "def plot_reward(trajs, idx=None):\n",
    "    if idx is None:\n",
    "        idx = list(range(len(trajs['ep_rewards'])))\n",
    "    if type(idx) is not list:\n",
    "        idx = [idx]\n",
    "\n",
    "    for i in idx:\n",
    "        cum_reward = np.cumsum(trajs['ep_rewards'][i])\n",
    "        plt.plot(cum_reward, label=f\"Room {i+1}\")\n",
    "\n",
    "    plt.axvline(x=500, color='r', label='Agent Switch')\n",
    "    plt.xlabel('Timestep')\n",
    "    plt.ylabel('Cumulative Reward')\n",
    "    plt.title('Reward over Time')\n",
    "    plt.legend(loc='upper left')\n",
    "    plt.show()"
   ]
  },
  {
   "cell_type": "code",
   "execution_count": 23,
   "metadata": {
    "pycharm": {
     "name": "#%%\n"
    }
   },
   "outputs": [
    {
     "name": "stdout",
     "output_type": "stream",
     "text": [
      "Computing MediumLevelActionManager\n",
      "Computing MediumLevelActionManager\n"
     ]
    },
    {
     "data": {
      "image/png": "[encoded data removed]",
      "text/plain": [
       "<Figure size 640x480 with 1 Axes>"
      ]
     },
     "metadata": {},
     "output_type": "display_data"
    },
    {
     "data": {
      "application/vnd.jupyter.widget-view+json": {
       "model_id": "0cad40accdb142cca75d09ca55e2d3b6",
       "version_major": 2,
       "version_minor": 0
      },
      "text/plain": [
       "interactive(children=(IntSlider(value=0, description='timestep', max=999), Output()), _dom_classes=('widget-in…"
      ]
     },
     "metadata": {},
     "output_type": "display_data"
    },
    {
     "data": {
      "application/vnd.jupyter.widget-view+json": {
       "model_id": "ce8b6fbd4e5f4885972ff6ce88ab63bb",
       "version_major": 2,
       "version_minor": 0
      },
      "text/plain": [
       "interactive(children=(IntSlider(value=0, description='timestep', max=999), Output()), _dom_classes=('widget-in…"
      ]
     },
     "metadata": {},
     "output_type": "display_data"
    }
   ],
   "source": [
    "trajs = simulate_n_rooms(2, 1000)\n",
    "plot_reward(trajs)\n",
    "StateVisualizer().display_rendered_trajectory(trajs, 0, ipython_display=True)\n",
    "StateVisualizer().display_rendered_trajectory(trajs, 1, ipython_display=True)"
   ]
  },
  {
   "cell_type": "code",
   "execution_count": 31,
   "metadata": {
    "pycharm": {
     "name": "#%%\n"
    }
   },
   "outputs": [],
   "source": []
  }
 ],
 "metadata": {
  "kernelspec": {
   "display_name": "Python 3 (ipykernel)",
   "language": "python",
   "name": "python3"
  },
  "language_info": {
   "codemirror_mode": {
    "name": "ipython",
    "version": 3
   },
   "file_extension": ".py",
   "mimetype": "text/x-python",
   "name": "python",
   "nbconvert_exporter": "python",
   "pygments_lexer": "ipython3",
   "version": "3.7.16"
  }
 },
 "nbformat": 4,
 "nbformat_minor": 1
}